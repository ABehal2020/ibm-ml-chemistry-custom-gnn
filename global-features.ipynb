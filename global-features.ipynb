{
 "cells": [
  {
   "cell_type": "code",
   "execution_count": 1,
   "id": "ecce7f13",
   "metadata": {},
   "outputs": [
    {
     "name": "stderr",
     "output_type": "stream",
     "text": [
      "2023-05-21 22:56:54.178703: I tensorflow/core/platform/cpu_feature_guard.cc:193] This TensorFlow binary is optimized with oneAPI Deep Neural Network Library (oneDNN) to use the following CPU instructions in performance-critical operations:  AVX2 FMA\n",
      "To enable them in other operations, rebuild TensorFlow with the appropriate compiler flags.\n",
      "Skipped loading modules with pytorch-lightning dependency, missing a dependency. No module named 'pytorch_lightning'\n",
      "Skipped loading some Jax models, missing a dependency. No module named 'jax'\n"
     ]
    }
   ],
   "source": [
    "import matplotlib.pyplot as plt\n",
    "import seaborn as sns\n",
    "import matplotlib as mpl\n",
    "import numpy as np\n",
    "import warnings\n",
    "import pandas as pd\n",
    "import rdkit, rdkit.Chem, rdkit.Chem.rdDepictor, rdkit.Chem.Draw\n",
    "from \n",
    "import networkx as nx\n",
    "import torch\n",
    "import torch\n",
    "import torch.nn as nn\n",
    "import torch.nn.functional as F\n",
    "from torch_geometric.nn import GCNConv\n",
    "import torch.utils.data as data\n",
    "import torch.optim as optim\n",
    "from torch_geometric.nn import MessagePassing\n",
    "from torch_geometric.utils import dense_to_sparse, add_self_loops, to_scipy_sparse_matrix\n",
    "from torch_geometric.data import Data\n",
    "import torch.nn.functional as F\n",
    "from six.moves import urllib\n",
    "import deepchem as dc\n",
    "import random\n",
    "from dgl.nn import Set2Set\n",
    "\n",
    "torch.manual_seed(0)\n",
    "torch.use_deterministic_algorithms(True)\n",
    "np.random.seed(0)\n",
    "random.seed(0)\n",
    "\n",
    "warnings.filterwarnings(\"ignore\")\n",
    "sns.set_context(\"notebook\")\n",
    "sns.set_style(\n",
    "    \"dark\",\n",
    "    {\n",
    "        \"xtick.bottom\": True,\n",
    "        \"ytick.left\": True,\n",
    "        \"xtick.color\": \"#666666\",\n",
    "        \"ytick.color\": \"#666666\",\n",
    "        \"axes.edgecolor\": \"#666666\",\n",
    "        \"axes.linewidth\": 0.8,\n",
    "        \"figure.dpi\": 300,\n",
    "    },\n",
    ")\n",
    "color_cycle = [\"#1BBC9B\", \"#F06060\", \"#5C4B51\", \"#F3B562\", \"#6e5687\"]\n",
    "mpl.rcParams[\"axes.prop_cycle\"] = mpl.cycler(color=color_cycle)\n",
    "\n",
    "opener = urllib.request.build_opener()\n",
    "opener.addheaders = [('User-agent', 'Mozilla/5.0')]\n",
    "urllib.request.install_opener(opener)\n",
    "\n",
    "soldata = pd.read_csv('https://dataverse.harvard.edu/api/access/datafile/3407241?format=original&gbrecs=true')\n",
    "# had to rehost because dataverse isn't reliable\n",
    "soldata = pd.read_csv(\n",
    "    \"https://github.com/whitead/dmol-book/raw/main/data/curated-solubility-dataset.csv\"\n",
    ")"
   ]
  },
  {
   "cell_type": "code",
   "execution_count": 2,
   "id": "745a5627",
   "metadata": {},
   "outputs": [],
   "source": [
    "def gen_smiles2graph(smiles):\n",
    "    \"\"\"Argument for the RD2NX function should be a valid SMILES sequence\n",
    "    returns: the graph\n",
    "    \"\"\"\n",
    "    featurizer = dc.feat.MolGraphConvFeaturizer(use_edges=True)\n",
    "    out = featurizer.featurize(smiles)\n",
    "    return out[0]"
   ]
  },
  {
   "cell_type": "code",
   "execution_count": 3,
   "id": "bf2c2de7",
   "metadata": {},
   "outputs": [
    {
     "name": "stdout",
     "output_type": "stream",
     "text": [
      "GraphData(node_features=[2, 30], edge_index=[2, 2], edge_features=[2, 11], pos=[0])\n",
      "<class 'deepchem.feat.graph_data.GraphData'>\n",
      "[[1. 0. 0. 0. 0. 0. 0. 0. 0. 0. 0. 0. 0. 1. 0. 0. 0. 0. 0. 0. 0. 1. 0. 0.\n",
      "  0. 0. 0. 1. 0. 0.]\n",
      " [0. 0. 1. 0. 0. 0. 0. 0. 0. 0. 0. 0. 0. 1. 1. 1. 0. 0. 0. 1. 0. 0. 0. 0.\n",
      "  0. 1. 0. 0. 0. 0.]]\n",
      "<class 'numpy.ndarray'>\n",
      "[[0 1]\n",
      " [1 0]]\n",
      "<class 'numpy.ndarray'>\n",
      "[[1. 0. 0. 0. 0. 0. 1. 0. 0. 0. 0.]\n",
      " [1. 0. 0. 0. 0. 0. 1. 0. 0. 0. 0.]]\n",
      "<class 'numpy.ndarray'>\n"
     ]
    }
   ],
   "source": [
    "testCO = gen_smiles2graph(\"CO\")\n",
    "print(testCO)\n",
    "print(type(testCO))\n",
    "print(testCO.node_features)\n",
    "print(type(testCO.node_features))\n",
    "print(testCO.edge_index)\n",
    "print(type(testCO.edge_index))\n",
    "print(testCO.edge_features)\n",
    "print(type(testCO.edge_features))"
   ]
  },
  {
   "cell_type": "code",
   "execution_count": 5,
   "id": "3982ce27",
   "metadata": {},
   "outputs": [
    {
     "name": "stdout",
     "output_type": "stream",
     "text": [
      "number of atoms:  2\n",
      "number of edges:  2\n"
     ]
    }
   ],
   "source": [
    "print(\"number of atoms: \", testCO.num_nodes)\n",
    "print(\"number of edges: \", testCO.num_edges)"
   ]
  },
  {
   "cell_type": "code",
   "execution_count": 41,
   "id": "7f6fe326",
   "metadata": {},
   "outputs": [
    {
     "name": "stdout",
     "output_type": "stream",
     "text": [
      "30.046950192\n"
     ]
    }
   ],
   "source": [
    "mw_CO = rdkit.Chem.Descriptors.ExactMolWt(rdkit.Chem.MolFromSmiles(\"CO\"))\n",
    "print(mw_CO)"
   ]
  },
  {
   "cell_type": "code",
   "execution_count": 49,
   "id": "7a5ba571",
   "metadata": {},
   "outputs": [
    {
     "name": "stdout",
     "output_type": "stream",
     "text": [
      "-1\n"
     ]
    }
   ],
   "source": [
    "# tutorial on smiles strings: https://chemicbook.com/2021/02/13/smiles-strings-explained-for-beginners-part-1.html\n",
    "formal_charge_Cl_anion = rdkit.Chem.rdmolops.GetFormalCharge(rdkit.Chem.MolFromSmiles(\"[Cl-]\"))\n",
    "print(formal_charge_Cl_anion)"
   ]
  }
 ],
 "metadata": {
  "kernelspec": {
   "display_name": "Python 3 (ipykernel)",
   "language": "python",
   "name": "python3"
  },
  "language_info": {
   "codemirror_mode": {
    "name": "ipython",
    "version": 3
   },
   "file_extension": ".py",
   "mimetype": "text/x-python",
   "name": "python",
   "nbconvert_exporter": "python",
   "pygments_lexer": "ipython3",
   "version": "3.7.12"
  }
 },
 "nbformat": 4,
 "nbformat_minor": 5
}
