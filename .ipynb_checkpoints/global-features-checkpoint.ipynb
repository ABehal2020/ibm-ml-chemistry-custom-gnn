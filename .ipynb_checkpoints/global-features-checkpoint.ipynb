{
 "cells": [
  {
   "cell_type": "code",
   "execution_count": 11,
   "id": "ecce7f13",
   "metadata": {},
   "outputs": [],
   "source": [
    "import matplotlib.pyplot as plt\n",
    "import seaborn as sns\n",
    "import matplotlib as mpl\n",
    "import numpy as np\n",
    "import warnings\n",
    "import pandas as pd\n",
    "import rdkit, rdkit.Chem, rdkit.Chem.rdDepictor, rdkit.Chem.Draw\n",
    "import networkx as nx\n",
    "import torch\n",
    "import torch\n",
    "import torch.nn as nn\n",
    "import torch.nn.functional as F\n",
    "from torch_geometric.nn import GCNConv\n",
    "import torch.utils.data as data\n",
    "import torch.optim as optim\n",
    "from torch_geometric.nn import MessagePassing\n",
    "from torch_geometric.utils import dense_to_sparse, add_self_loops, to_scipy_sparse_matrix\n",
    "from torch_geometric.data import Data\n",
    "import torch.nn.functional as F\n",
    "from six.moves import urllib\n",
    "import deepchem as dc\n",
    "import random\n",
    "from dgl.nn import Set2Set\n",
    "\n",
    "torch.manual_seed(0)\n",
    "torch.use_deterministic_algorithms(True)\n",
    "np.random.seed(0)\n",
    "random.seed(0)\n",
    "\n",
    "warnings.filterwarnings(\"ignore\")\n",
    "sns.set_context(\"notebook\")\n",
    "sns.set_style(\n",
    "    \"dark\",\n",
    "    {\n",
    "        \"xtick.bottom\": True,\n",
    "        \"ytick.left\": True,\n",
    "        \"xtick.color\": \"#666666\",\n",
    "        \"ytick.color\": \"#666666\",\n",
    "        \"axes.edgecolor\": \"#666666\",\n",
    "        \"axes.linewidth\": 0.8,\n",
    "        \"figure.dpi\": 300,\n",
    "    },\n",
    ")\n",
    "color_cycle = [\"#1BBC9B\", \"#F06060\", \"#5C4B51\", \"#F3B562\", \"#6e5687\"]\n",
    "mpl.rcParams[\"axes.prop_cycle\"] = mpl.cycler(color=color_cycle)\n",
    "\n",
    "opener = urllib.request.build_opener()\n",
    "opener.addheaders = [('User-agent', 'Mozilla/5.0')]\n",
    "urllib.request.install_opener(opener)\n",
    "\n",
    "# had to rehost because dataverse isn't reliable\n",
    "soldata = pd.read_csv(\n",
    "    # \"https://github.com/whitead/dmol-book/raw/main/data/curated-solubility-dataset.csv\"\n",
    "    \"/Users/adityabehal/Downloads/curated-solubility-dataset.csv\"\n",
    ")"
   ]
  },
  {
   "cell_type": "code",
   "execution_count": 12,
   "id": "745a5627",
   "metadata": {},
   "outputs": [],
   "source": [
    "def gen_smiles2graph(smiles):\n",
    "    \"\"\"Argument for the RD2NX function should be a valid SMILES sequence\n",
    "    returns: the graph\n",
    "    \"\"\"\n",
    "    featurizer = dc.feat.MolGraphConvFeaturizer(use_edges=True)\n",
    "    out = featurizer.featurize(smiles)\n",
    "    return out[0]"
   ]
  },
  {
   "cell_type": "code",
   "execution_count": 13,
   "id": "bf2c2de7",
   "metadata": {},
   "outputs": [
    {
     "name": "stdout",
     "output_type": "stream",
     "text": [
      "GraphData(node_features=[2, 30], edge_index=[2, 2], edge_features=[2, 11], pos=[0])\n",
      "<class 'deepchem.feat.graph_data.GraphData'>\n",
      "[[1. 0. 0. 0. 0. 0. 0. 0. 0. 0. 0. 0. 0. 1. 0. 0. 0. 0. 0. 0. 0. 1. 0. 0.\n",
      "  0. 0. 0. 1. 0. 0.]\n",
      " [0. 0. 1. 0. 0. 0. 0. 0. 0. 0. 0. 0. 0. 1. 1. 1. 0. 0. 0. 1. 0. 0. 0. 0.\n",
      "  0. 1. 0. 0. 0. 0.]]\n",
      "<class 'numpy.ndarray'>\n",
      "[[0 1]\n",
      " [1 0]]\n",
      "<class 'numpy.ndarray'>\n",
      "[[1. 0. 0. 0. 0. 0. 1. 0. 0. 0. 0.]\n",
      " [1. 0. 0. 0. 0. 0. 1. 0. 0. 0. 0.]]\n",
      "<class 'numpy.ndarray'>\n"
     ]
    }
   ],
   "source": [
    "testCO = gen_smiles2graph(\"CO\")\n",
    "print(testCO)\n",
    "print(type(testCO))\n",
    "print(testCO.node_features)\n",
    "print(type(testCO.node_features))\n",
    "print(testCO.edge_index)\n",
    "print(type(testCO.edge_index))\n",
    "print(testCO.edge_features)\n",
    "print(type(testCO.edge_features))"
   ]
  },
  {
   "cell_type": "code",
   "execution_count": 14,
   "id": "3982ce27",
   "metadata": {},
   "outputs": [
    {
     "name": "stdout",
     "output_type": "stream",
     "text": [
      "number of atoms:  2\n",
      "number of edges:  2\n"
     ]
    }
   ],
   "source": [
    "print(\"number of atoms: \", testCO.num_nodes)\n",
    "print(\"number of edges: \", testCO.num_edges)"
   ]
  },
  {
   "cell_type": "code",
   "execution_count": 15,
   "id": "7f6fe326",
   "metadata": {},
   "outputs": [
    {
     "name": "stdout",
     "output_type": "stream",
     "text": [
      "32.026214748\n"
     ]
    }
   ],
   "source": [
    "mw_CO = rdkit.Chem.Descriptors.ExactMolWt(rdkit.Chem.MolFromSmiles(\"CO\"))\n",
    "print(mw_CO)"
   ]
  },
  {
   "cell_type": "code",
   "execution_count": 16,
   "id": "7a5ba571",
   "metadata": {},
   "outputs": [
    {
     "name": "stdout",
     "output_type": "stream",
     "text": [
      "-1\n"
     ]
    }
   ],
   "source": [
    "# tutorial on smiles strings: https://chemicbook.com/2021/02/13/smiles-strings-explained-for-beginners-part-1.html\n",
    "formal_charge_Cl_anion = rdkit.Chem.rdmolops.GetFormalCharge(rdkit.Chem.MolFromSmiles(\"[Cl-]\"))\n",
    "print(formal_charge_Cl_anion)"
   ]
  },
  {
   "cell_type": "code",
   "execution_count": 38,
   "id": "14815e47",
   "metadata": {},
   "outputs": [],
   "source": [
    "graphInstance = testCO\n",
    "\n",
    "global_features = np.zeros((1,6))\n",
    "global_features[0][0] = graphInstance.num_nodes\n",
    "global_features[0][1] = graphInstance.num_edges\n",
    "global_features[0][2] = int(rdkit.Chem.Descriptors.ExactMolWt(rdkit.Chem.MolFromSmiles(\"CO\")))\n",
    "\n",
    "formal_charge = rdkit.Chem.rdmolops.GetFormalCharge(rdkit.Chem.MolFromSmiles(\"CO\"))\n",
    "\n",
    "if formal_charge < 0:\n",
    "    global_features[0][3] = 1\n",
    "    global_features[0][4] = 0\n",
    "    global_features[0][5] = 0\n",
    "elif formal_charge > 0:\n",
    "    global_features[0][3] = 0\n",
    "    global_features[0][4] = 0\n",
    "    global_features[0][5] = 1\n",
    "else:\n",
    "    global_features[0][3] = 0\n",
    "    global_features[0][4] = 1\n",
    "    global_features[0][5] = 0"
   ]
  },
  {
   "cell_type": "code",
   "execution_count": 39,
   "id": "d52e2fd2",
   "metadata": {},
   "outputs": [],
   "source": [
    "graphInstanceWithGlobalFeatures = dc.feat.graph_data.GraphData(node_features=graphInstance.node_features,\n",
    "                                             edge_index=graphInstance.edge_index,\n",
    "                                             edge_features=graphInstance.edge_features,\n",
    "                                             z=global_features)"
   ]
  },
  {
   "cell_type": "code",
   "execution_count": 40,
   "id": "976f6643",
   "metadata": {},
   "outputs": [
    {
     "data": {
      "text/plain": [
       "array([[1., 0., 0., 0., 0., 0., 0., 0., 0., 0., 0., 0., 0., 1., 0., 0.,\n",
       "        0., 0., 0., 0., 0., 1., 0., 0., 0., 0., 0., 1., 0., 0.],\n",
       "       [0., 0., 1., 0., 0., 0., 0., 0., 0., 0., 0., 0., 0., 1., 1., 1.,\n",
       "        0., 0., 0., 1., 0., 0., 0., 0., 0., 1., 0., 0., 0., 0.]])"
      ]
     },
     "execution_count": 40,
     "metadata": {},
     "output_type": "execute_result"
    }
   ],
   "source": [
    "graphInstanceWithGlobalFeatures.node_features"
   ]
  },
  {
   "cell_type": "code",
   "execution_count": 41,
   "id": "21a46090",
   "metadata": {},
   "outputs": [
    {
     "data": {
      "text/plain": [
       "array([[1., 0., 0., 0., 0., 0., 1., 0., 0., 0., 0.],\n",
       "       [1., 0., 0., 0., 0., 0., 1., 0., 0., 0., 0.]])"
      ]
     },
     "execution_count": 41,
     "metadata": {},
     "output_type": "execute_result"
    }
   ],
   "source": [
    "graphInstanceWithGlobalFeatures.edge_features"
   ]
  },
  {
   "cell_type": "code",
   "execution_count": 42,
   "id": "406bde09",
   "metadata": {},
   "outputs": [
    {
     "data": {
      "text/plain": [
       "array([[ 2.,  2., 32.,  0.,  1.,  0.]])"
      ]
     },
     "execution_count": 42,
     "metadata": {},
     "output_type": "execute_result"
    }
   ],
   "source": [
    "graphInstanceWithGlobalFeatures.z"
   ]
  },
  {
   "cell_type": "code",
   "execution_count": 43,
   "id": "ee7bb408",
   "metadata": {},
   "outputs": [
    {
     "data": {
      "text/plain": [
       "(1, 6)"
      ]
     },
     "execution_count": 43,
     "metadata": {},
     "output_type": "execute_result"
    }
   ],
   "source": [
    "graphInstanceWithGlobalFeatures.z.shape"
   ]
  },
  {
   "cell_type": "code",
   "execution_count": 44,
   "id": "383b13c6",
   "metadata": {},
   "outputs": [],
   "source": [
    "graphInstance.z = global_features"
   ]
  },
  {
   "cell_type": "code",
   "execution_count": 45,
   "id": "5c278239",
   "metadata": {},
   "outputs": [
    {
     "name": "stdout",
     "output_type": "stream",
     "text": [
      "GraphData(node_features=[2, 30], edge_index=[2, 2], edge_features=[2, 11], pos=[0])\n"
     ]
    }
   ],
   "source": [
    "print(graphInstance)"
   ]
  },
  {
   "cell_type": "code",
   "execution_count": 47,
   "id": "946f2530",
   "metadata": {},
   "outputs": [
    {
     "name": "stdout",
     "output_type": "stream",
     "text": [
      "(1, 6)\n"
     ]
    }
   ],
   "source": [
    "print(graphInstance.z.shape)"
   ]
  },
  {
   "cell_type": "code",
   "execution_count": 48,
   "id": "8c83d862",
   "metadata": {},
   "outputs": [],
   "source": [
    "import torch\n",
    "torch.cat?"
   ]
  },
  {
   "cell_type": "code",
   "execution_count": 49,
   "id": "dab7e385",
   "metadata": {},
   "outputs": [],
   "source": [
    "torch.sum?"
   ]
  },
  {
   "cell_type": "code",
   "execution_count": 52,
   "id": "0eb27849",
   "metadata": {},
   "outputs": [
    {
     "name": "stdout",
     "output_type": "stream",
     "text": [
      "tensor([12., 15., 18.])\n"
     ]
    }
   ],
   "source": [
    "x = torch.Tensor([[1, 2, 3], \n",
    "                  [4, 5, 6], \n",
    "                  [7, 8, 9]])\n",
    "\n",
    "print(torch.sum(x, dim=0))"
   ]
  },
  {
   "cell_type": "code",
   "execution_count": null,
   "id": "ef004faf",
   "metadata": {},
   "outputs": [],
   "source": []
  }
 ],
 "metadata": {
  "kernelspec": {
   "display_name": "Python 3 (ipykernel)",
   "language": "python",
   "name": "python3"
  },
  "language_info": {
   "codemirror_mode": {
    "name": "ipython",
    "version": 3
   },
   "file_extension": ".py",
   "mimetype": "text/x-python",
   "name": "python",
   "nbconvert_exporter": "python",
   "pygments_lexer": "ipython3",
   "version": "3.7.12"
  }
 },
 "nbformat": 4,
 "nbformat_minor": 5
}
