{
  "cells": [
    {
      "cell_type": "markdown",
      "metadata": {
        "id": "view-in-github",
        "colab_type": "text"
      },
      "source": [
        "<a href=\"https://colab.research.google.com/github/ABehal2020/IBM-Graph-Neural-Network/blob/main/aditya_gnn_implementation_colab.ipynb\" target=\"_parent\"><img src=\"https://colab.research.google.com/assets/colab-badge.svg\" alt=\"Open In Colab\"/></a>"
      ]
    },
    {
      "cell_type": "code",
      "execution_count": null,
      "metadata": {
        "id": "xktUE0ktyTxL"
      },
      "outputs": [],
      "source": [
        "!pip install jupyter-book matplotlib numpy tensorflow pydot seaborn Pillow rdkit-pypi torch_geometric"
      ]
    },
    {
      "cell_type": "code",
      "execution_count": null,
      "metadata": {
        "colab": {
          "background_save": true
        },
        "id": "pnAa-61XxqEb"
      },
      "outputs": [],
      "source": [
        "import matplotlib.pyplot as plt\n",
        "import seaborn as sns\n",
        "import matplotlib as mpl\n",
        "import numpy as np\n",
        "import warnings\n",
        "import pandas as pd\n",
        "import rdkit, rdkit.Chem, rdkit.Chem.rdDepictor, rdkit.Chem.Draw\n",
        "import networkx as nx\n",
        "import torch\n",
        "import torch\n",
        "import torch.nn as nn\n",
        "import torch.nn.functional as F\n",
        "# torch geometric\n",
        "try: \n",
        "    import torch_geometric\n",
        "except ModuleNotFoundError:\n",
        "    # Installing torch geometric packages with specific CUDA+PyTorch version. \n",
        "    # See https://pytorch-geometric.readthedocs.io/en/latest/notes/installation.html for details \n",
        "    TORCH = torch.__version__.split('+')[0]\n",
        "    CUDA = 'cu' + torch.version.cuda.replace('.','')\n",
        "\n",
        "    !pip install torch-scatter     -f https://pytorch-geometric.com/whl/torch-{TORCH}+{CUDA}.html\n",
        "    !pip install torch-sparse      -f https://pytorch-geometric.com/whl/torch-{TORCH}+{CUDA}.html\n",
        "    !pip install torch-cluster     -f https://pytorch-geometric.com/whl/torch-{TORCH}+{CUDA}.html\n",
        "    !pip install torch-spline-conv -f https://pytorch-geometric.com/whl/torch-{TORCH}+{CUDA}.html\n",
        "    !pip install torch-geometric \n",
        "    import torch_geometric\n",
        "from torch_geometric.nn import GCNConv\n",
        "import torch.utils.data as data\n",
        "import torch.optim as optim\n",
        "from torch_geometric.nn import MessagePassing\n",
        "from torch_geometric.utils import dense_to_sparse, add_self_loops, to_scipy_sparse_matrix\n",
        "from torch_geometric.data import Data\n",
        "import torch.nn.functional as F\n",
        "from six.moves import urllib\n",
        "\n",
        "warnings.filterwarnings(\"ignore\")\n",
        "sns.set_context(\"notebook\")\n",
        "sns.set_style(\n",
        "    \"dark\",\n",
        "    {\n",
        "        \"xtick.bottom\": True,\n",
        "        \"ytick.left\": True,\n",
        "        \"xtick.color\": \"#666666\",\n",
        "        \"ytick.color\": \"#666666\",\n",
        "        \"axes.edgecolor\": \"#666666\",\n",
        "        \"axes.linewidth\": 0.8,\n",
        "        \"figure.dpi\": 300,\n",
        "    },\n",
        ")\n",
        "color_cycle = [\"#1BBC9B\", \"#F06060\", \"#5C4B51\", \"#F3B562\", \"#6e5687\"]\n",
        "mpl.rcParams[\"axes.prop_cycle\"] = mpl.cycler(color=color_cycle)\n",
        "\n",
        "opener = urllib.request.build_opener()\n",
        "opener.addheaders = [('User-agent', 'Mozilla/5.0')]\n",
        "urllib.request.install_opener(opener)\n",
        "\n",
        "soldata = pd.read_csv('https://dataverse.harvard.edu/api/access/datafile/3407241?format=original&gbrecs=true')\n",
        "# had to rehost because dataverse isn't reliable\n",
        "soldata = pd.read_csv(\n",
        "    \"https://github.com/whitead/dmol-book/raw/master/data/curated-solubility-dataset.csv\"\n",
        ")\n",
        "np.random.seed(0)\n",
        "my_elements = {6: \"C\", 8: \"O\", 1: \"H\"}"
      ]
    },
    {
      "cell_type": "code",
      "execution_count": null,
      "metadata": {
        "colab": {
          "background_save": true
        },
        "id": "sQzgL9q5xxFN"
      },
      "outputs": [],
      "source": [
        "def smiles2graph(sml):\n",
        "    \"\"\"Argument for the RD2NX function should be a valid SMILES sequence\n",
        "    returns: the graph\n",
        "    \"\"\"\n",
        "    m = rdkit.Chem.MolFromSmiles(sml)\n",
        "    m = rdkit.Chem.AddHs(m)\n",
        "    order_string = {\n",
        "        rdkit.Chem.rdchem.BondType.SINGLE: 1,\n",
        "        rdkit.Chem.rdchem.BondType.DOUBLE: 2,\n",
        "        rdkit.Chem.rdchem.BondType.TRIPLE: 3,\n",
        "        rdkit.Chem.rdchem.BondType.AROMATIC: 4,\n",
        "    }\n",
        "    N = len(list(m.GetAtoms()))\n",
        "    nodes = np.zeros((N, len(my_elements)))\n",
        "    lookup = list(my_elements.keys())\n",
        "    for i in m.GetAtoms():\n",
        "        nodes[i.GetIdx(), lookup.index(i.GetAtomicNum())] = 1\n",
        "\n",
        "    adj = np.zeros((N, N, 5))\n",
        "    for j in m.GetBonds():\n",
        "        u = min(j.GetBeginAtomIdx(), j.GetEndAtomIdx())\n",
        "        v = max(j.GetBeginAtomIdx(), j.GetEndAtomIdx())\n",
        "        order = j.GetBondType()\n",
        "        if order in order_string:\n",
        "            order = order_string[order]\n",
        "        else:\n",
        "            raise Warning(\"Ignoring bond order\" + order)\n",
        "        adj[u, v, order] = 1\n",
        "        adj[v, u, order] = 1\n",
        "    return nodes, adj"
      ]
    },
    {
      "cell_type": "code",
      "execution_count": null,
      "metadata": {
        "colab": {
          "background_save": true
        },
        "id": "-9Tt-ycjx0U8"
      },
      "outputs": [],
      "source": [
        "nodes, adj = smiles2graph(\"CO\")\n",
        "nodes"
      ]
    },
    {
      "cell_type": "code",
      "execution_count": null,
      "metadata": {
        "colab": {
          "background_save": true
        },
        "id": "uV9OXe9zx3Ra"
      },
      "outputs": [],
      "source": [
        "nodes, adj = smiles2graph(\"CO\")\n",
        "adj_mat = np.sum(adj, axis=-1) + np.eye(adj.shape[0])\n",
        "adj_mat"
      ]
    },
    {
      "cell_type": "code",
      "execution_count": null,
      "metadata": {
        "colab": {
          "background_save": true
        },
        "id": "U3F_inNKx5eI"
      },
      "outputs": [],
      "source": [
        "degree = np.sum(adj_mat, axis=-1)\n",
        "degree"
      ]
    },
    {
      "cell_type": "code",
      "execution_count": null,
      "metadata": {
        "colab": {
          "background_save": true
        },
        "id": "Wp2rFsCYx8sN"
      },
      "outputs": [],
      "source": [
        "print(nodes[0])\n",
        "# note to divide by degree, make the input 1 / degree\n",
        "new_nodes = np.einsum(\"i,ij,jk->ik\", 1 / degree, adj_mat, nodes)\n",
        "print(new_nodes[0])"
      ]
    },
    {
      "cell_type": "code",
      "execution_count": null,
      "metadata": {
        "colab": {
          "background_save": true
        },
        "id": "CLESVxIUyFnD"
      },
      "outputs": [],
      "source": [
        "class GCNLayer(torch.nn.Module):\n",
        "    \n",
        "    def __init__(self, c_in, c_out):\n",
        "        super().__init__()\n",
        "        self.projection = nn.Linear(c_in, c_out)\n",
        "\n",
        "    def forward(self, node_feats, adj_matrix):\n",
        "        \"\"\"\n",
        "        Inputs:\n",
        "            node_feats - Tensor with node features of shape [batch_size, num_nodes, c_in]\n",
        "            adj_matrix - Batch of adjacency matrices of the graph. If there is an edge from i to j, adj_matrix[b,i,j]=1 else 0.\n",
        "                         Supports directed edges by non-symmetric matrices. Assumes to already have added the identity connections. \n",
        "                         Shape: [batch_size, num_nodes, num_nodes]\n",
        "        \"\"\"\n",
        "        # Num neighbours = number of incoming edges\n",
        "        num_neighbours = adj_matrix.sum(dim=-1, keepdims=True)\n",
        "        node_feats = self.projection(node_feats)\n",
        "        node_feats = torch.bmm(adj_matrix, node_feats)\n",
        "        node_feats = node_feats / num_neighbours\n",
        "        node_feats = F.relu(node_feats)\n",
        "        \n",
        "        return node_feats"
      ]
    },
    {
      "cell_type": "code",
      "execution_count": null,
      "metadata": {
        "colab": {
          "background_save": true
        },
        "id": "knD_X6ufyGLx"
      },
      "outputs": [],
      "source": [
        "layer = GCNLayer(c_in=3, c_out=3)\n",
        "layer.projection.weight.data = torch.Tensor([[1., 0., 0.], \n",
        "                                             [0., 1., 0.],\n",
        "                                             [0., 0., 1.]])\n",
        "'''\n",
        "layer.projection.weight.data = torch.Tensor([[0.32973695, 0.9439781, 0.99448895],\n",
        "                                             [0.48394036, 0.47628093, 0.976377],\n",
        "                                             [0.11168528, -0.7981007, 0.14510608]])\n",
        "'''\n",
        "\n",
        "layer.projection.bias.data = torch.Tensor([0., 0., 0.])\n",
        "\n",
        "nodes = torch.Tensor(nodes).reshape(1, 6, 3)\n",
        "node_features = nodes\n",
        "adj_mat = torch.Tensor(adj_mat).reshape(1, 6, 6)\n",
        "\n",
        "print(\"Node features:\\n\", nodes)\n",
        "print(\"\\nAdjacency matrix:\\n\", adj_mat)\n",
        "print(adj_mat.sum(dim=-1, keepdims=True))\n",
        "print(adj_mat.shape)\n",
        "\n",
        "with torch.no_grad():\n",
        "        out_feats = layer(nodes, adj_mat)\n",
        "\n",
        "print(\"Output features\", out_feats)"
      ]
    },
    {
      "cell_type": "code",
      "execution_count": null,
      "metadata": {
        "colab": {
          "background_save": true
        },
        "id": "ar1mRLcCNPjJ"
      },
      "outputs": [],
      "source": [
        "degree_mat_manual = np.array([[5.],\n",
        "         [3.],\n",
        "         [2.],\n",
        "         [2.],\n",
        "         [2.],\n",
        "         [2.]]).reshape(6,)\n",
        "print(degree_mat_manual.shape)\n",
        "weight_mat_manual = np.array([[1., 0., 0.], \n",
        "                                             [0., 1., 0.],\n",
        "                                             [0., 0., 1.]])\n",
        "# 6 x 3\n",
        "node_features_manual = node_features.reshape(6, 3)\n",
        "# 3 x 3\n",
        "adj_mat_manual = adj_mat.reshape(6, 6)\n",
        "# real case with 100 features\n",
        "# N x 100 = nodes features\n",
        "# N x N = adjacency matrix\n",
        "# 100 x 100 = weight matrix\n",
        "# N x N x N x 100 x 100 x 100\n",
        "\n",
        "# second dimension of N nodes must be kept constant so when N differs \n",
        "\n",
        "# 1000 --> 20 x 20 for N = 20 with batch size = 100, 1000 molecules of size 20\n",
        "# 1000 x 20 x 100 (100 features)\n",
        "# 100 x 100 for weight matrix\n",
        "# 20 x 20 x 20 x 100\n",
        "\n",
        "# test case below\n",
        "# H (6 x 3) x W^T (3 x 3) --> 6 x 3 resultant\n",
        "temp1 = np.dot(node_features_manual, weight_mat_manual.T)\n",
        "print(temp1)\n",
        "# A (6 x 6) x H (6 x 3) x W^T (3 x 3) ---> 6 x 6 x 6 x 3 x 6 x 3 ---> 6 x 3 resultant\n",
        "temp2 = np.dot(adj_mat_manual, temp1)\n",
        "print(temp2)\n",
        "for i in range(len(degree_mat_manual)):\n",
        "  temp2[i] = temp2[i]/degree_mat_manual[i]\n",
        "print(temp2)"
      ]
    },
    {
      "cell_type": "code",
      "execution_count": null,
      "metadata": {
        "colab": {
          "background_save": true
        },
        "id": "7ZLpbt33QHWi"
      },
      "outputs": [],
      "source": [
        "node_features_manual = temp2\n",
        "# H x W^T --> 6 x 3 resultant\n",
        "temp1 = np.dot(node_features_manual, weight_mat_manual.T)\n",
        "print(temp1)\n",
        "# A x H x W^T ---> 6 x 6 x 6 x 3 ---> 6 x 3 resultant\n",
        "temp2 = np.dot(adj_mat_manual, temp1)\n",
        "print(temp2)\n",
        "for i in range(len(degree_mat_manual)):\n",
        "  temp2[i] = temp2[i]/degree_mat_manual[i]\n",
        "print(temp2)"
      ]
    },
    {
      "cell_type": "code",
      "execution_count": null,
      "metadata": {
        "colab": {
          "background_save": true
        },
        "id": "io9l3ZG3yIZE"
      },
      "outputs": [],
      "source": [
        "out_feats = nodes\n",
        "for i in range(2):\n",
        "  with torch.no_grad():\n",
        "          out_feats = layer(out_feats, adj_mat)\n",
        "        \n",
        "print(\"Output features\", out_feats)"
      ]
    },
    {
      "cell_type": "code",
      "execution_count": null,
      "metadata": {
        "colab": {
          "background_save": true
        },
        "id": "CwmhA-pKRhsr"
      },
      "outputs": [],
      "source": [
        "class GRLayer(torch.nn.Module):\n",
        "\n",
        "    def __init__(self, **kwargs):\n",
        "        super(GRLayer, self).__init__(**kwargs)\n",
        "\n",
        "    def forward(self, node_feats):\n",
        "        # print(node_feats.shape)\n",
        "        reduction = torch.mean(torch.Tensor(node_feats), 1, True)\n",
        "        return reduction"
      ]
    },
    {
      "cell_type": "code",
      "execution_count": null,
      "metadata": {
        "colab": {
          "background_save": true
        },
        "id": "oAKe9dkYaM21"
      },
      "outputs": [],
      "source": [
        "def gen_smiles2graph(sml):\n",
        "    \"\"\"Argument for the RD2NX function should be a valid SMILES sequence\n",
        "    returns: the graph\n",
        "    \"\"\"\n",
        "    m = rdkit.Chem.MolFromSmiles(sml)\n",
        "    m = rdkit.Chem.AddHs(m)\n",
        "    order_string = {\n",
        "        rdkit.Chem.rdchem.BondType.SINGLE: 1,\n",
        "        rdkit.Chem.rdchem.BondType.DOUBLE: 2,\n",
        "        rdkit.Chem.rdchem.BondType.TRIPLE: 3,\n",
        "        rdkit.Chem.rdchem.BondType.AROMATIC: 4,\n",
        "    }\n",
        "    N = len(list(m.GetAtoms()))\n",
        "    nodes = np.zeros((N, 100))\n",
        "    for i in m.GetAtoms():\n",
        "        nodes[i.GetIdx(), i.GetAtomicNum()] = 1\n",
        "\n",
        "    adj = np.zeros((N, N))\n",
        "    for j in m.GetBonds():\n",
        "        u = min(j.GetBeginAtomIdx(), j.GetEndAtomIdx())\n",
        "        v = max(j.GetBeginAtomIdx(), j.GetEndAtomIdx())\n",
        "        order = j.GetBondType()\n",
        "        if order in order_string:\n",
        "            order = order_string[order]\n",
        "        else:\n",
        "            raise Warning(\"Ignoring bond order\" + order)\n",
        "        adj[u, v] = 1\n",
        "        adj[v, u] = 1\n",
        "    adj += np.eye(N)\n",
        "    return nodes, adj"
      ]
    },
    {
      "cell_type": "code",
      "execution_count": null,
      "metadata": {
        "colab": {
          "background_save": true
        },
        "id": "8JBxw9BjaRqL"
      },
      "outputs": [],
      "source": [
        "nodes, adj = gen_smiles2graph(\"CO\")\n",
        "# model((nodes[np.newaxis, ...], adj_mat[np.newaxis, ...]))\n",
        "ninput = torch.Tensor(nodes).reshape(1, 6, 100)\n",
        "ainput = torch.Tensor(adj_mat).reshape(1, 6, 6)\n",
        "# print(ninput)\n",
        "# print(ninput.shape)\n",
        "# print(ainput)\n",
        "# print(ainput.shape)\n",
        "# GCN block\n",
        "layer = GCNLayer(c_in=100, c_out=100)\n",
        "x = layer(ninput, ainput)\n",
        "x = layer(x, ainput)\n",
        "x = layer(x, ainput)\n",
        "x = layer(x, ainput)\n",
        "# reduce to graph features\n",
        "# averaging all the nodes (reduction over the columns) --> you get a vector of all the averaged node features\n",
        "print(x.shape)\n",
        "x = GRLayer()(x)\n",
        "print(x.shape)\n",
        "# standard layers (the readout)\n",
        "layer1 = nn.Linear(in_features=100, out_features=16)\n",
        "layer2 = nn.Linear(in_features=16, out_features=1)\n",
        "x = layer1(x)\n",
        "print(x.shape)\n",
        "x = nn.functional.tanh(x)\n",
        "print(x.shape)\n",
        "x = layer2(x)\n",
        "print(x.shape)\n",
        "print(x)\n",
        "# keras code - equivalent in PyTorch?\n",
        "# model = tf.keras.Model(inputs=(ninput, ainput), outputs=x)"
      ]
    },
    {
      "cell_type": "code",
      "execution_count": null,
      "metadata": {
        "colab": {
          "background_save": true
        },
        "id": "8yDiWep8q4yJ"
      },
      "outputs": [],
      "source": [
        "device = \"cuda\" if torch.cuda.is_available() else \"cpu\"\n",
        "print(f\"Using {device} device\")"
      ]
    },
    {
      "cell_type": "code",
      "execution_count": null,
      "metadata": {
        "id": "RdIDO1CNq8Wa"
      },
      "outputs": [],
      "source": [
        "'''\n",
        "def example():\n",
        "    for i in range(len(soldata)):\n",
        "        graph = gen_smiles2graph(soldata.SMILES[i])\n",
        "        sol = soldata.Solubility[i]\n",
        "        yield graph, sol\n",
        "\n",
        "data = tf.data.Dataset.from_generator(\n",
        "    example,\n",
        "    output_types=((tf.float32, tf.float32), tf.float32),\n",
        "    output_shapes=(\n",
        "        (tf.TensorShape([None, 100]), tf.TensorShape([None, None])),\n",
        "        tf.TensorShape([]),\n",
        "    ),\n",
        ")\n",
        "'''\n",
        "\n",
        "# PyTorch equivalent of tf code above using generator?\n",
        "\n",
        "graph = []\n",
        "sol = []\n",
        "for i in range(len(soldata)):\n",
        "    graph.append(gen_smiles2graph(soldata.SMILES[i]))\n",
        "    sol.append(soldata.Solubility[i])"
      ]
    },
    {
      "cell_type": "code",
      "execution_count": null,
      "metadata": {
        "colab": {
          "background_save": true
        },
        "id": "Zdpii3yK0eQZ"
      },
      "outputs": [],
      "source": [
        "# print(graph[0])\n",
        "# print(sol[0])\n",
        "# print(type(graph))\n",
        "# print(type(sol))\n",
        "\n",
        "class CustomDataset(data.Dataset):\n",
        "    def __init__(self, graphAll, solAll, transform=None, target_transform=None):\n",
        "        self.graphInstances = graphAll\n",
        "        self.solInstances = solAll\n",
        "        self.transform = transform\n",
        "        self.target_transform = target_transform\n",
        "\n",
        "    def __len__(self):\n",
        "        return len(self.graphInstances)\n",
        "\n",
        "    def __getitem__(self, idx):\n",
        "        graphInstance = self.graphInstances[idx]\n",
        "        solInstance = self.solInstances[idx]\n",
        "        if self.transform:\n",
        "            graphInstance = self.transform(graphInstance)\n",
        "        if self.target_transform:\n",
        "            solInstance = self.target_transform(solInstance)\n",
        "        return graphInstance, solInstance"
      ]
    },
    {
      "cell_type": "code",
      "execution_count": null,
      "metadata": {
        "colab": {
          "background_save": true
        },
        "id": "u6hjFb3U5mc-"
      },
      "outputs": [],
      "source": [
        "import multiprocessing\n",
        "\n",
        "cores = multiprocessing.cpu_count() # Count the number of cores in a computer\n",
        "cores"
      ]
    },
    {
      "cell_type": "code",
      "execution_count": null,
      "metadata": {
        "colab": {
          "background_save": true
        },
        "id": "TitCr_kE4B9J"
      },
      "outputs": [],
      "source": [
        "dataset = CustomDataset(graphAll=graph, solAll=sol)\n",
        "dataloader = data.DataLoader(dataset, batch_size=1,\n",
        "                        shuffle=True, num_workers=cores)\n",
        "# print(len(dataloader))\n",
        "# print(type(dataloader))\n",
        "test_data, val_data, train_data = data.random_split(dataloader, [200, 200, len(dataloader) - 400], generator=torch.Generator().manual_seed(42))\n",
        "\n",
        "test_data_loader = data.DataLoader(test_data, batch_size=1, shuffle=True, num_workers=cores)\n",
        "val_data_loader = data.DataLoader(val_data, batch_size=1, shuffle=True, num_workers=cores)\n",
        "train_data_loader = data.DataLoader(train_data, batch_size=1, shuffle=True, num_workers=cores)\n",
        "# print(test_data)\n",
        "# print(val_data)\n",
        "# print(train_data)\n",
        "# print(train_data.__getitem__(0))"
      ]
    },
    {
      "cell_type": "code",
      "execution_count": null,
      "metadata": {
        "colab": {
          "background_save": true
        },
        "id": "D2s04y6wG0Dp"
      },
      "outputs": [],
      "source": [
        "class NeuralNetwork(nn.Module):\n",
        "    def __init__(self):\n",
        "        super(NeuralNetwork, self).__init__()\n",
        "        self.gcn_layer = GCNLayer(c_in=100, c_out=100)\n",
        "        self.gr_layer = GRLayer()\n",
        "        self.linear_layer1 = nn.Linear(100, 16)\n",
        "        self.nonlinear_activation_fx = nn.Tanh()\n",
        "        self.linear_layer2 = nn.Linear(16, 1)\n",
        "        '''\n",
        "        self.gcn_linear_relu_stack = nn.Sequential(\n",
        "            GCNLayer(c_in=100, c_out=100),\n",
        "            GCNLayer(c_in=100, c_out=100),\n",
        "            GCNLayer(c_in=100, c_out=100),\n",
        "            GCNLayer(c_in=100, c_out=100),\n",
        "            nn.Linear(100, 16),\n",
        "            nn.Tanh(),\n",
        "            nn.Linear(16, 1),\n",
        "        )\n",
        "        '''\n",
        "    \n",
        "    def forward(self, ninput, ainput):\n",
        "        x = self.gcn_layer(ninput, ainput)\n",
        "        x = self.gcn_layer(x, ainput)\n",
        "        x = self.gcn_layer(x, ainput)\n",
        "        x = self.gcn_layer(x, ainput)\n",
        "        x = self.gr_layer(x)\n",
        "        x = self.linear_layer1(x)\n",
        "        x = self.nonlinear_activation_fx(x)\n",
        "        x = self.linear_layer2(x)\n",
        "        return x\n",
        "        '''\n",
        "        solubility = self.gcn_linear_relu_stack(ninput, ainput)\n",
        "        return solubility\n",
        "        '''\n",
        "\n",
        "model = NeuralNetwork()"
      ]
    },
    {
      "cell_type": "code",
      "execution_count": null,
      "metadata": {
        "colab": {
          "background_save": true
        },
        "id": "ui5-_V_qKzZI"
      },
      "outputs": [],
      "source": [
        "def train_loop(dataloader, dataloader2, model, loss_fn, optimizer):\n",
        "    # print(\"before size\")\n",
        "    size = len(dataloader.dataset)\n",
        "    # print(\"after size\")\n",
        "    # print(size)\n",
        "    loss_batch = []\n",
        "    for batch, (X, y) in enumerate(dataloader.dataset):\n",
        "    # for batch, (X, y) in enumerate(dataloader):\n",
        "        # Compute prediction and loss\n",
        "        # print(len(X))\n",
        "        # print(X[0].shape)\n",
        "        # print(X[1].shape)\n",
        "        ninput = X[0].float()\n",
        "        # print(ninput.shape)\n",
        "        ainput = X[1].float()\n",
        "        # print(ainput.shape)\n",
        "        # print(ainput.sum(dim=-1, keepdims=True))\n",
        "        pred = model(ninput, ainput)\n",
        "        # print(pred.shape)\n",
        "        yReshaped = torch.Tensor([y]).reshape(1, 1, 1)\n",
        "        # print(yReshaped.shape)\n",
        "        # print(\"Prediction: %s, Actual value %s\", pred, yReshaped)\n",
        "        loss = loss_fn(pred, yReshaped)\n",
        "\n",
        "        # Backpropagation\n",
        "        optimizer.zero_grad()\n",
        "        loss.backward()\n",
        "        optimizer.step()\n",
        "\n",
        "        loss_batch.append(loss.item())\n",
        "\n",
        "    loss_epoch = np.average(loss_batch)\n",
        "\n",
        "    print(\"Training loss: \", loss_epoch)\n",
        "\n",
        "    val_loss_batch = []\n",
        "\n",
        "    with torch.no_grad():\n",
        "        for batch, (X, y) in enumerate(dataloader2.dataset):\n",
        "        # for batch, (X, y) in enumerate(dataloader2):\n",
        "            ninput = X[0].float()\n",
        "            ainput = X[1].float()\n",
        "            pred = model(ninput, ainput)\n",
        "            yReshaped = torch.Tensor([y]).reshape(1, 1, 1)\n",
        "            loss = loss_fn(pred, yReshaped)\n",
        "      \n",
        "            val_loss_batch.append(loss.item())\n",
        "    \n",
        "    val_loss_epoch = np.average(val_loss_batch)\n",
        "\n",
        "    print(\"Validation loss: \", val_loss_epoch)\n",
        "\n",
        "    return loss_epoch, val_loss_epoch\n",
        "\n",
        "def test_loop(dataloader, model, loss_fn):\n",
        "    size = len(dataloader.dataset)\n",
        "    num_batches = len(dataloader)\n",
        "    test_loss, correct = 0, 0\n",
        "\n",
        "    with torch.no_grad():\n",
        "        for X, y in dataloader.dataset:\n",
        "        # for X, y in dataloader:\n",
        "            pred = model(X)\n",
        "            test_loss += loss_fn(pred, y).item()\n",
        "            correct += (pred.argmax(1) == y).type(torch.float).sum().item()\n",
        "\n",
        "    test_loss /= num_batches\n",
        "    correct /= size\n",
        "    # print(f\"Test Error: \\n Accuracy: {(100*correct):>0.1f}%, Avg loss: {test_loss:>8f} \\n\")"
      ]
    },
    {
      "cell_type": "code",
      "execution_count": 47,
      "metadata": {
        "id": "MtYHGgTsde37",
        "colab": {
          "base_uri": "https://localhost:8080/"
        },
        "outputId": "14bd5001-50a9-4350-abc7-1595f51071df"
      },
      "outputs": [
        {
          "output_type": "stream",
          "name": "stdout",
          "text": [
            "Epoch 1\n",
            "-------------------------------\n",
            "Training loss:  4.467442209230927\n",
            "Validation loss:  3.5219184654912716\n",
            "Epoch 2\n",
            "-------------------------------\n",
            "Training loss:  3.2493365375706915\n",
            "Validation loss:  2.5836380146392335\n",
            "Epoch 3\n",
            "-------------------------------\n",
            "Training loss:  2.647155033127541\n",
            "Validation loss:  2.6306447214793787\n",
            "Epoch 4\n",
            "-------------------------------\n",
            "Training loss:  2.4954062404047748\n",
            "Validation loss:  2.3268557875831757\n",
            "Epoch 5\n",
            "-------------------------------\n",
            "Training loss:  2.3522481248527964\n",
            "Validation loss:  2.22759025402442\n",
            "Epoch 6\n",
            "-------------------------------\n",
            "Training loss:  2.2605233542575522\n",
            "Validation loss:  2.1460656951899075\n",
            "Epoch 7\n",
            "-------------------------------\n",
            "Training loss:  2.146981478929382\n",
            "Validation loss:  1.9859904662096393\n",
            "Epoch 8\n",
            "-------------------------------\n",
            "Training loss:  2.0492161574936003\n",
            "Validation loss:  1.9984178413010774\n",
            "Epoch 9\n",
            "-------------------------------\n",
            "Training loss:  1.9644663768066788\n",
            "Validation loss:  1.8674265034347806\n",
            "Epoch 10\n",
            "-------------------------------\n",
            "Training loss:  1.9032331459692553\n",
            "Validation loss:  1.6789393015041456\n",
            "Epoch 11\n",
            "-------------------------------\n",
            "Training loss:  1.824878437435778\n",
            "Validation loss:  1.6993369667017877\n",
            "Epoch 12\n",
            "-------------------------------\n",
            "Training loss:  1.7837514188486483\n",
            "Validation loss:  1.90839009523035\n",
            "Epoch 13\n",
            "-------------------------------\n",
            "Training loss:  1.7907931697616961\n",
            "Validation loss:  1.669172978645655\n",
            "Epoch 14\n",
            "-------------------------------\n",
            "Training loss:  1.7243237910093694\n",
            "Validation loss:  1.6517549163868792\n",
            "Epoch 15\n",
            "-------------------------------\n",
            "Training loss:  1.743437683704516\n",
            "Validation loss:  1.60205673757272\n",
            "Epoch 16\n",
            "-------------------------------\n",
            "Training loss:  1.6840356023661234\n",
            "Validation loss:  1.5381232512177836\n",
            "Epoch 17\n",
            "-------------------------------\n",
            "Training loss:  1.6387764350067069\n",
            "Validation loss:  1.4620845482682976\n",
            "Epoch 18\n",
            "-------------------------------\n",
            "Training loss:  1.6165321055460582\n",
            "Validation loss:  1.5901656909897548\n",
            "Epoch 19\n",
            "-------------------------------\n",
            "Training loss:  1.5745359481075225\n",
            "Validation loss:  1.8220793665540869\n",
            "Epoch 20\n",
            "-------------------------------\n",
            "Training loss:  1.5669977990492463\n",
            "Validation loss:  1.5772937051297005\n",
            "Done!\n"
          ]
        }
      ],
      "source": [
        "learning_rate = 1e-3\n",
        "loss_fn = nn.MSELoss()\n",
        "optimizer = torch.optim.Adam(model.parameters(), lr=learning_rate)\n",
        "train_loss = []\n",
        "val_loss = []\n",
        "loss_epochs = []\n",
        "val_loss_epochs = []\n",
        "\n",
        "epochs = 20\n",
        "for t in range(epochs):\n",
        "    print(f\"Epoch {t+1}\\n-------------------------------\")\n",
        "    # we need to check to see if train_data and val_data is being shuffled before each epoch along with playing around with different initializations (and can do multiple reruns)\n",
        "    # we can also try SGD for a few epochs (5) before doing Adam or maybe try SGD for all 20 epochs\n",
        "    # we can run several jupyter notebooks in parallel\n",
        "    train_loss_epoch_value, val_loss_epoch_value = train_loop(train_data_loader.dataset, val_data_loader.dataset, model, loss_fn, optimizer)\n",
        "    train_loss.append(train_loss_epoch_value)\n",
        "    val_loss.append(val_loss_epoch_value)\n",
        "    # test_loop(test_data, model, loss_fn)\n",
        "print(\"Done!\")"
      ]
    },
    {
      "cell_type": "code",
      "execution_count": 48,
      "metadata": {
        "id": "WJGCBTrTgOUZ"
      },
      "outputs": [],
      "source": [
        "# train_loss = [4.226139596777066, 3.004239772329186, 2.572852132083354, 2.4141540110657216, 2.3216654043936646, 2.1875368104018067, 2.1429045711136068, 2.069950588210219, 1.9942445817747199, 1.9191229061224768, 1.8690842514004369, 1.7871576600868404, 1.7476929143898259, 1.7090401340630716, 1.6644819780875477, 1.6327650274479517, 1.5917086882318254, 1.5811287509559409, 1.554251340270101, 1.5298286575051994]\n",
        "# print(len(train_loss))"
      ]
    },
    {
      "cell_type": "code",
      "execution_count": 49,
      "metadata": {
        "id": "7mGFqsKSJB8e",
        "colab": {
          "base_uri": "https://localhost:8080/"
        },
        "outputId": "890e03d1-fa01-4e46-d9d2-c3054f8cf686"
      },
      "outputs": [
        {
          "output_type": "stream",
          "name": "stdout",
          "text": [
            "20\n",
            "20\n"
          ]
        }
      ],
      "source": [
        "print(len(train_loss))\n",
        "print(len(val_loss))"
      ]
    },
    {
      "cell_type": "code",
      "execution_count": 51,
      "metadata": {
        "id": "P8xvQCUS99d6",
        "colab": {
          "base_uri": "https://localhost:8080/",
          "height": 355
        },
        "outputId": "c9f96dd7-b5af-4225-f7e1-b8b70142870c"
      },
      "outputs": [
        {
          "output_type": "display_data",
          "data": {
            "text/plain": [
              "<Figure size 720x360 with 1 Axes>"
            ],
            "image/png": "[encoded data removed]"
          },
          "metadata": {}
        }
      ],
      "source": [
        "train_loss = torch.Tensor(train_loss)\n",
        "val_loss = torch.Tensor(val_loss)\n",
        "\n",
        "plt.figure(figsize=(10,5))\n",
        "plt.title(\"Training and Validation Loss\")\n",
        "plt.plot(val_loss,label=\"val\")\n",
        "plt.plot(train_loss,label=\"train\")\n",
        "plt.xlabel(\"iterations\")\n",
        "plt.ylabel(\"Loss\")\n",
        "plt.legend()\n",
        "plt.show()"
      ]
    }
  ],
  "metadata": {
    "colab": {
      "collapsed_sections": [],
      "name": "aditya-gnn-implementation-colab.ipynb",
      "provenance": [],
      "authorship_tag": "ABX9TyNISVIdJxbkADBTLlqo7P4E",
      "include_colab_link": true
    },
    "kernelspec": {
      "display_name": "Python 3",
      "name": "python3"
    },
    "language_info": {
      "name": "python"
    }
  },
  "nbformat": 4,
  "nbformat_minor": 0
}