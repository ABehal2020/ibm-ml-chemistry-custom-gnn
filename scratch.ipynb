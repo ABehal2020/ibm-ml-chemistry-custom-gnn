{
 "cells": [
  {
   "cell_type": "code",
   "execution_count": 1,
   "id": "c6e07944",
   "metadata": {},
   "outputs": [
    {
     "name": "stdout",
     "output_type": "stream",
     "text": [
      "# conda environments:\r\n",
      "#\r\n",
      "base                     /Users/adityabehal/opt/anaconda3\r\n",
      "aditya-ml                /Users/adityabehal/opt/anaconda3/envs/aditya-ml\r\n",
      "aixia                    /Users/adityabehal/opt/anaconda3/envs/aixia\r\n",
      "alpha0                   /Users/adityabehal/opt/anaconda3/envs/alpha0\r\n",
      "bondnet                  /Users/adityabehal/opt/anaconda3/envs/bondnet\r\n",
      "chipseq                  /Users/adityabehal/opt/anaconda3/envs/chipseq\r\n",
      "cs4150                   /Users/adityabehal/opt/anaconda3/envs/cs4150\r\n",
      "custom-gnn               /Users/adityabehal/opt/anaconda3/envs/custom-gnn\r\n",
      "gnn-tutorial             /Users/adityabehal/opt/anaconda3/envs/gnn-tutorial\r\n",
      "homl3                    /Users/adityabehal/opt/anaconda3/envs/homl3\r\n",
      "latest-custom-gnn     *  /Users/adityabehal/opt/anaconda3/envs/latest-custom-gnn\r\n",
      "rxnrep                   /Users/adityabehal/opt/anaconda3/envs/rxnrep\r\n",
      "search                   /Users/adityabehal/opt/anaconda3/envs/search\r\n",
      "si_env                   /Users/adityabehal/opt/anaconda3/envs/si_env\r\n",
      "socomp                   /Users/adityabehal/opt/anaconda3/envs/socomp\r\n",
      "spinal-stim              /Users/adityabehal/opt/anaconda3/envs/spinal-stim\r\n",
      "tf2                      /Users/adityabehal/opt/anaconda3/envs/tf2\r\n",
      "udemy-gnn                /Users/adityabehal/opt/anaconda3/envs/udemy-gnn\r\n",
      "wumpus                   /Users/adityabehal/opt/anaconda3/envs/wumpus\r\n",
      "\r\n"
     ]
    }
   ],
   "source": [
    "!conda info --envs"
   ]
  },
  {
   "cell_type": "code",
   "execution_count": 2,
   "id": "5b10c1ee",
   "metadata": {},
   "outputs": [
    {
     "ename": "ModuleNotFoundError",
     "evalue": "No module named 'seaborn'",
     "output_type": "error",
     "traceback": [
      "\u001b[0;31m---------------------------------------------------------------------------\u001b[0m",
      "\u001b[0;31mModuleNotFoundError\u001b[0m                       Traceback (most recent call last)",
      "Cell \u001b[0;32mIn [2], line 2\u001b[0m\n\u001b[1;32m      1\u001b[0m \u001b[38;5;28;01mimport\u001b[39;00m \u001b[38;5;21;01mmatplotlib\u001b[39;00m\u001b[38;5;21;01m.\u001b[39;00m\u001b[38;5;21;01mpyplot\u001b[39;00m \u001b[38;5;28;01mas\u001b[39;00m \u001b[38;5;21;01mplt\u001b[39;00m\n\u001b[0;32m----> 2\u001b[0m \u001b[38;5;28;01mimport\u001b[39;00m \u001b[38;5;21;01mseaborn\u001b[39;00m \u001b[38;5;28;01mas\u001b[39;00m \u001b[38;5;21;01msns\u001b[39;00m\n\u001b[1;32m      3\u001b[0m \u001b[38;5;28;01mimport\u001b[39;00m \u001b[38;5;21;01mmatplotlib\u001b[39;00m \u001b[38;5;28;01mas\u001b[39;00m \u001b[38;5;21;01mmpl\u001b[39;00m\n\u001b[1;32m      4\u001b[0m \u001b[38;5;28;01mimport\u001b[39;00m \u001b[38;5;21;01mnumpy\u001b[39;00m \u001b[38;5;28;01mas\u001b[39;00m \u001b[38;5;21;01mnp\u001b[39;00m\n",
      "\u001b[0;31mModuleNotFoundError\u001b[0m: No module named 'seaborn'"
     ]
    }
   ],
   "source": [
    "import matplotlib.pyplot as plt\n",
    "import seaborn as sns\n",
    "import matplotlib as mpl\n",
    "import numpy as np\n",
    "import warnings\n",
    "import pandas as pd\n",
    "import rdkit, rdkit.Chem, rdkit.Chem.rdDepictor, rdkit.Chem.Draw\n",
    "import networkx as nx\n",
    "import torch\n",
    "import torch\n",
    "import torch.nn as nn\n",
    "import torch.nn.functional as F\n",
    "from torch_geometric.nn import GCNConv\n",
    "import torch.utils.data as data\n",
    "import torch.optim as optim\n",
    "from torch_geometric.nn import MessagePassing\n",
    "from torch_geometric.utils import dense_to_sparse, add_self_loops, to_scipy_sparse_matrix\n",
    "from torch_geometric.data import Data\n",
    "import torch.nn.functional as F\n",
    "from six.moves import urllib\n",
    "import deepchem as dc\n",
    "import random\n",
    "from dgl.nn import Set2Set\n",
    "import multiprocessing\n",
    "from torchvision.transforms import Compose, ToTensor"
   ]
  },
  {
   "cell_type": "code",
   "execution_count": null,
   "id": "85b1e456",
   "metadata": {},
   "outputs": [],
   "source": []
  }
 ],
 "metadata": {
  "kernelspec": {
   "display_name": "Python 3 (ipykernel)",
   "language": "python",
   "name": "python3"
  },
  "language_info": {
   "codemirror_mode": {
    "name": "ipython",
    "version": 3
   },
   "file_extension": ".py",
   "mimetype": "text/x-python",
   "name": "python",
   "nbconvert_exporter": "python",
   "pygments_lexer": "ipython3",
   "version": "3.8.15"
  }
 },
 "nbformat": 4,
 "nbformat_minor": 5
}
